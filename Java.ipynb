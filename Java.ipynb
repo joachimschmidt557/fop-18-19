{
 "cells": [
  {
   "cell_type": "markdown",
   "metadata": {},
   "source": [
    "# Java"
   ]
  },
  {
   "cell_type": "code",
   "execution_count": 2,
   "metadata": {},
   "outputs": [
    {
     "name": "stdout",
     "output_type": "stream",
     "text": [
      "Java ist kacke\n"
     ]
    }
   ],
   "source": [
    "System.out.println(\"Java ist kacke\")"
   ]
  },
  {
   "cell_type": "markdown",
   "metadata": {},
   "source": [
    "## Allgemeines"
   ]
  },
  {
   "cell_type": "markdown",
   "metadata": {},
   "source": [
    "### Arithmetik"
   ]
  },
  {
   "cell_type": "code",
   "execution_count": 1,
   "metadata": {},
   "outputs": [
    {
     "data": {
      "text/html": [
       "-44"
      ]
     },
     "execution_count": 1,
     "metadata": {},
     "output_type": "execute_result"
    }
   ],
   "source": [
    "13 - 57"
   ]
  },
  {
   "cell_type": "code",
   "execution_count": null,
   "metadata": {},
   "outputs": [],
   "source": []
  },
  {
   "cell_type": "markdown",
   "metadata": {},
   "source": [
    "## Lambdas"
   ]
  },
  {
   "cell_type": "code",
   "execution_count": 8,
   "metadata": {},
   "outputs": [
    {
     "data": {
      "text/html": [
       "<style>table.converted {color: #333; font-family: Helvetica, Arial, sans-serif; border-collapse: collapse; border-spacing: 0;}table.converted td, table.converted th {border: 1px solid #C9C7C7;}table.converted th, table.converted td.rowLabel {background: #626262; color: #FFFFFF; font-weight: bold; text-align: left;}table.converted td {text-align: left;}table.converted tr:nth-child(even) {background: #F3F3F3;}table.converted tr:nth-child(odd) {background: #FFFFFF;}table.converted tbody tr:hover {background: #BDF4B5;}table.converted td.rowLabel, table.converted th.rowLabel {display: none;}</style><table class=\"converted\"><tbody><tr><td>1</td></tr><tr><td>2</td></tr><tr><td>3</td></tr><tr><td>4</td></tr></tbody></table>"
      ]
     },
     "execution_count": 8,
     "metadata": {},
     "output_type": "execute_result"
    }
   ],
   "source": [
    "ArrayList<Integer> l = new ArrayList<Integer>();\n",
    "l.add(1);\n",
    "l.add(2);\n",
    "l.add(3);\n",
    "l.add(4);\n",
    "l"
   ]
  },
  {
   "cell_type": "code",
   "execution_count": 11,
   "metadata": {},
   "outputs": [
    {
     "name": "stderr",
     "output_type": "stream",
     "text": [
      "[ERROR] null\n",
      "org.codehaus.groovy.control.MultipleCompilationErrorsException: startup failed:\n",
      "Script10.groovy: 7: unexpected token: -> @ line 7, column 36.\n",
      "   List<Integer> p = l.stream().map(x -> x + 1).collect(Collectors::toList);\n",
      "                                      ^\n",
      "\n",
      "1 error\n",
      "\n",
      "\tat org.codehaus.groovy.control.ErrorCollector.failIfErrors(ErrorCollector.java:310)\n",
      "\tat org.codehaus.groovy.control.ErrorCollector.addFatalError(ErrorCollector.java:150)\n",
      "\tat org.codehaus.groovy.control.ErrorCollector.addError(ErrorCollector.java:120)\n",
      "\tat org.codehaus.groovy.control.ErrorCollector.addError(ErrorCollector.java:132)\n",
      "\tat org.codehaus.groovy.control.SourceUnit.addError(SourceUnit.java:350)\n",
      "\tat org.codehaus.groovy.antlr.AntlrParserPlugin.transformCSTIntoAST(AntlrParserPlugin.java:144)\n",
      "\tat org.codehaus.groovy.antlr.AntlrParserPlugin.parseCST(AntlrParserPlugin.java:110)\n",
      "\tat org.codehaus.groovy.control.SourceUnit.parse(SourceUnit.java:234)\n",
      "\tat org.codehaus.groovy.control.CompilationUnit$1.call(CompilationUnit.java:168)\n",
      "\tat org.codehaus.groovy.control.CompilationUnit.applyToSourceUnits(CompilationUnit.java:943)\n",
      "\tat org.codehaus.groovy.control.CompilationUnit.doPhaseOperation(CompilationUnit.java:605)\n",
      "\tat org.codehaus.groovy.control.CompilationUnit.processPhaseOperations(CompilationUnit.java:581)\n",
      "\tat org.codehaus.groovy.control.CompilationUnit.compile(CompilationUnit.java:558)\n",
      "\tat groovy.lang.GroovyClassLoader.doParseClass(GroovyClassLoader.java:298)\n",
      "\tat groovy.lang.GroovyClassLoader.parseClass(GroovyClassLoader.java:268)\n",
      "\tat groovy.lang.GroovyClassLoader.parseClass(GroovyClassLoader.java:254)\n",
      "\tat groovy.lang.GroovyClassLoader.parseClass(GroovyClassLoader.java:250)\n",
      "\tat org.scijava.plugins.scripting.groovy.GroovyScriptEngine.getScriptClass(GroovyScriptEngine.java:319)\n",
      "\tat org.scijava.plugins.scripting.groovy.GroovyScriptEngine.eval(GroovyScriptEngine.java:122)\n",
      "\tat javax.script.AbstractScriptEngine.eval(AbstractScriptEngine.java:264)\n",
      "\tat org.scijava.script.ScriptModule.run(ScriptModule.java:160)\n",
      "\tat org.scijava.module.ModuleRunner.run(ModuleRunner.java:168)\n",
      "\tat org.scijava.jupyter.kernel.evaluator.Worker.run(Worker.java:108)\n",
      "\tat org.scijava.thread.DefaultThreadService$2.run(DefaultThreadService.java:221)\n",
      "\tat java.util.concurrent.Executors$RunnableAdapter.call(Executors.java:511)\n",
      "\tat java.util.concurrent.FutureTask.run(FutureTask.java:266)\n",
      "\tat java.util.concurrent.ThreadPoolExecutor.runWorker(ThreadPoolExecutor.java:1142)\n",
      "\tat java.util.concurrent.ThreadPoolExecutor$Worker.run(ThreadPoolExecutor.java:617)\n",
      "\tat java.lang.Thread.run(Thread.java:745)\n"
     ]
    }
   ],
   "source": [
    "ArrayList<Integer> l = new ArrayList<Integer>();\n",
    "l.add(1);\n",
    "l.add(2);\n",
    "l.add(3);\n",
    "l.add(4);\n",
    "\n",
    "List<Integer> p = l.stream().map(x -> x + 1).collect(Collectors::toList);\n",
    "\n",
    "p"
   ]
  }
 ],
 "metadata": {
  "kernelspec": {
   "display_name": "SciJava",
   "language": "groovy",
   "name": "scijava"
  },
  "language_info": {
   "codemirror_mode": "groovy",
   "file_extension": "",
   "mimetype": "",
   "name": "scijava",
   "nbconverter_exporter": "",
   "pygments_lexer": "groovy",
   "version": "1.0"
  }
 },
 "nbformat": 4,
 "nbformat_minor": 2
}
