{
 "cells": [
  {
   "cell_type": "markdown",
   "metadata": {},
   "source": [
    "# Racket!"
   ]
  },
  {
   "cell_type": "code",
   "execution_count": 1,
   "metadata": {},
   "outputs": [
    {
     "data": {
      "text/html": [
       "<code>\"Racket ist die beste Programmiersprache\"</code>"
      ],
      "text/plain": [
       "\"Racket ist die beste Programmiersprache\""
      ]
     },
     "execution_count": 1,
     "metadata": {},
     "output_type": "execute_result"
    }
   ],
   "source": [
    "(string-append \"Racket\" \" ist die beste Programmiersprache\")"
   ]
  },
  {
   "cell_type": "markdown",
   "metadata": {},
   "source": [
    "## Allgemeines"
   ]
  },
  {
   "cell_type": "markdown",
   "metadata": {},
   "source": [
    "### Arithmetik"
   ]
  },
  {
   "cell_type": "code",
   "execution_count": 2,
   "metadata": {},
   "outputs": [
    {
     "data": {
      "text/html": [
       "<code>5</code>"
      ],
      "text/plain": [
       "5"
      ]
     },
     "execution_count": 2,
     "metadata": {},
     "output_type": "execute_result"
    }
   ],
   "source": [
    "(+ 1 4)"
   ]
  },
  {
   "cell_type": "code",
   "execution_count": 3,
   "metadata": {},
   "outputs": [
    {
     "data": {
      "text/html": [
       "<code>100/3</code>"
      ],
      "text/plain": [
       "100/3"
      ]
     },
     "execution_count": 3,
     "metadata": {},
     "output_type": "execute_result"
    }
   ],
   "source": [
    "(/ 100 3)"
   ]
  },
  {
   "cell_type": "code",
   "execution_count": 4,
   "metadata": {},
   "outputs": [
    {
     "data": {
      "text/html": [
       "<code>2</code>"
      ],
      "text/plain": [
       "2"
      ]
     },
     "execution_count": 4,
     "metadata": {},
     "output_type": "execute_result"
    }
   ],
   "source": [
    "(modulo 70 4)"
   ]
  },
  {
   "cell_type": "markdown",
   "metadata": {},
   "source": [
    "## Funktionale Programmierung"
   ]
  },
  {
   "cell_type": "markdown",
   "metadata": {},
   "source": [
    "### Map\n",
    "\n",
    "Map ist so etwas ähnliches wie foreach."
   ]
  },
  {
   "cell_type": "code",
   "execution_count": 5,
   "metadata": {},
   "outputs": [
    {
     "data": {
      "text/html": [
       "<code>'(#f #t #t #t #t #t #t #f)</code>"
      ],
      "text/plain": [
       "'(#f #t #t #t #t #t #t #f)"
      ]
     },
     "execution_count": 5,
     "metadata": {},
     "output_type": "execute_result"
    }
   ],
   "source": [
    "(define list-of-numbers (list 13 56 84 66 32 462 322 3))\n",
    "(define (is-even? x) (= 0 (modulo x 2)))\n",
    "(map is-even? list-of-numbers)"
   ]
  },
  {
   "cell_type": "code",
   "execution_count": 6,
   "metadata": {},
   "outputs": [
    {
     "data": {
      "text/html": [
       "<code>'(\"13\" \"56\" \"84\" \"66\" \"32\" \"462\" \"322\" \"3\")</code>"
      ],
      "text/plain": [
       "'(\"13\" \"56\" \"84\" \"66\" \"32\" \"462\" \"322\" \"3\")"
      ]
     },
     "execution_count": 6,
     "metadata": {},
     "output_type": "execute_result"
    }
   ],
   "source": [
    "(define list-of-numbers (list 13 56 84 66 32 462 322 3))\n",
    "(map number->string list-of-numbers)"
   ]
  },
  {
   "cell_type": "markdown",
   "metadata": {},
   "source": [
    "### Filter"
   ]
  },
  {
   "cell_type": "code",
   "execution_count": 7,
   "metadata": {},
   "outputs": [
    {
     "data": {
      "text/html": [
       "<code>'(56 84 66 32 462 322)</code>"
      ],
      "text/plain": [
       "'(56 84 66 32 462 322)"
      ]
     },
     "execution_count": 7,
     "metadata": {},
     "output_type": "execute_result"
    }
   ],
   "source": [
    "(define list-of-numbers (list 13 56 84 66 32 462 322 3))\n",
    "(define (is-even? x) (= 0 (modulo x 2)))\n",
    "(filter is-even? list-of-numbers)"
   ]
  },
  {
   "cell_type": "markdown",
   "metadata": {},
   "source": [
    "### Fold"
   ]
  },
  {
   "cell_type": "code",
   "execution_count": 8,
   "metadata": {},
   "outputs": [
    {
     "data": {
      "text/html": [
       "<code>1038</code>"
      ],
      "text/plain": [
       "1038"
      ]
     },
     "execution_count": 8,
     "metadata": {},
     "output_type": "execute_result"
    }
   ],
   "source": [
    "(define list-of-numbers (list 13 56 84 66 32 462 322 3))\n",
    "(foldl + 0 list-of-numbers)"
   ]
  },
  {
   "cell_type": "code",
   "execution_count": 9,
   "metadata": {},
   "outputs": [
    {
     "data": {
      "text/html": [
       "<code>\"rackethiasdf\"</code>"
      ],
      "text/plain": [
       "\"rackethiasdf\""
      ]
     },
     "execution_count": 9,
     "metadata": {},
     "output_type": "execute_result"
    }
   ],
   "source": [
    "(define list-of-strings (list \"asdf\" \"hi\" \"racket\"))\n",
    "(foldl string-append \"\" list-of-strings)"
   ]
  },
  {
   "cell_type": "markdown",
   "metadata": {},
   "source": [
    "## Structs"
   ]
  },
  {
   "cell_type": "code",
   "execution_count": 15,
   "metadata": {},
   "outputs": [
    {
     "data": {
      "text/html": [
       "<code>(file \"/racket/asdf.txt\" 11 \"Lorem ipsum\")</code>"
      ],
      "text/plain": [
       "(file \"/racket/asdf.txt\" 11 \"Lorem ipsum\")"
      ]
     },
     "execution_count": 15,
     "metadata": {},
     "output_type": "execute_result"
    }
   ],
   "source": [
    "(define-struct file (path size content))\n",
    "\n",
    "(make-file \"/racket/asdf.txt\" 11 \"Lorem ipsum\")"
   ]
  },
  {
   "cell_type": "code",
   "execution_count": 16,
   "metadata": {},
   "outputs": [
    {
     "data": {
      "text/html": [
       "<code>11</code>"
      ],
      "text/plain": [
       "11"
      ]
     },
     "execution_count": 16,
     "metadata": {},
     "output_type": "execute_result"
    }
   ],
   "source": [
    "(define example-file (make-file \"/racket/asdf.txt\" 11 \"Lorem ipsum\"))\n",
    "(file-size example-file)"
   ]
  },
  {
   "cell_type": "code",
   "execution_count": 17,
   "metadata": {},
   "outputs": [
    {
     "data": {
      "text/html": [
       "<code>\"/racket/asdf.txt\"</code>"
      ],
      "text/plain": [
       "\"/racket/asdf.txt\""
      ]
     },
     "execution_count": 17,
     "metadata": {},
     "output_type": "execute_result"
    }
   ],
   "source": [
    "(file-path example-file)"
   ]
  },
  {
   "cell_type": "markdown",
   "metadata": {},
   "source": [
    "## Lambdas"
   ]
  },
  {
   "cell_type": "code",
   "execution_count": 12,
   "metadata": {},
   "outputs": [
    {
     "data": {
      "text/html": [
       "<code>'(6 7 8 9 10)</code>"
      ],
      "text/plain": [
       "'(6 7 8 9 10)"
      ]
     },
     "execution_count": 12,
     "metadata": {},
     "output_type": "execute_result"
    }
   ],
   "source": [
    ";; Ohne Lambdas\n",
    "(define (add5 x) (+ 5 x))\n",
    "\n",
    "(map add5 '(1 2 3 4 5))"
   ]
  },
  {
   "cell_type": "code",
   "execution_count": 13,
   "metadata": {},
   "outputs": [
    {
     "data": {
      "text/html": [
       "<code>'(6 7 8 9 10)</code>"
      ],
      "text/plain": [
       "'(6 7 8 9 10)"
      ]
     },
     "execution_count": 13,
     "metadata": {},
     "output_type": "execute_result"
    }
   ],
   "source": [
    ";; Mit Lambdas\n",
    "(map (lambda (x) (+ 5 x)) '(1 2 3 4 5))"
   ]
  },
  {
   "cell_type": "markdown",
   "metadata": {},
   "source": [
    "## Andere coole Sachen"
   ]
  },
  {
   "cell_type": "code",
   "execution_count": 19,
   "metadata": {},
   "outputs": [
    {
     "data": {
      "text/html": [
       "<code>19</code>"
      ],
      "text/plain": [
       "19"
      ]
     },
     "execution_count": 19,
     "metadata": {},
     "output_type": "execute_result"
    }
   ],
   "source": [
    "(begin (define x 14) (+ x 5))"
   ]
  }
 ],
 "metadata": {
  "kernelspec": {
   "display_name": "Racket",
   "language": "racket",
   "name": "racket"
  },
  "language_info": {
   "codemirror_mode": "scheme",
   "file_extension": ".rkt",
   "mimetype": "text/x-racket",
   "name": "Racket",
   "pygments_lexer": "racket",
   "version": "7.2.0.10"
  }
 },
 "nbformat": 4,
 "nbformat_minor": 2
}
